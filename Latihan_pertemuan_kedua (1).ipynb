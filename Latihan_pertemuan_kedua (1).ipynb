{
  "nbformat": 4,
  "nbformat_minor": 0,
  "metadata": {
    "colab": {
      "provenance": []
    },
    "kernelspec": {
      "name": "python3",
      "display_name": "Python 3"
    },
    "language_info": {
      "name": "python"
    }
  },
  "cells": [
    {
      "cell_type": "code",
      "source": [
        "import numpy as np\n",
        "a = [1,2,3]\n",
        "b = [4,5,6]\n",
        "hasil = a + b\n",
        "print (hasil)\n",
        "def add (list_a,list_b):\n",
        "    result = []\n",
        "    for first, second in zip (list_a,list_b):\n",
        "      result.append(first+second)\n",
        "    return result\n",
        "print (add(a,b))"
      ],
      "metadata": {
        "colab": {
          "base_uri": "https://localhost:8080/"
        },
        "id": "oPrQJrteZDyL",
        "outputId": "52c90b06-e20d-4479-ccac-d265f5227db1"
      },
      "execution_count": null,
      "outputs": [
        {
          "output_type": "stream",
          "name": "stdout",
          "text": [
            "[1, 2, 3, 4, 5, 6]\n",
            "[5, 7, 9]\n"
          ]
        }
      ]
    },
    {
      "cell_type": "code",
      "source": [
        "import numpy as np\n",
        "nilai_siswa = np.array([85,55,40,90])\n",
        "print (nilai_siswa[2])\n"
      ],
      "metadata": {
        "colab": {
          "base_uri": "https://localhost:8080/"
        },
        "id": "79EDIl-DZJxH",
        "outputId": "95db927b-f163-42f2-9512-8bf064a6abbb"
      },
      "execution_count": null,
      "outputs": [
        {
          "output_type": "stream",
          "name": "stdout",
          "text": [
            "40\n"
          ]
        }
      ]
    },
    {
      "cell_type": "code",
      "execution_count": null,
      "metadata": {
        "colab": {
          "base_uri": "https://localhost:8080/"
        },
        "id": "55P9AEoQL5CY",
        "outputId": "5f35fd12-6cd6-458b-d663-7086e2abee1d"
      },
      "outputs": [
        {
          "output_type": "stream",
          "name": "stdout",
          "text": [
            "1.23.5\n"
          ]
        }
      ],
      "source": [
        "import numpy as np\n",
        "print(np.__version__)"
      ]
    },
    {
      "cell_type": "code",
      "source": [
        "print(\"hello world\")\n",
        "print(\"nama saya darren\")\n",
        "print(\"NIM saya 2022071011\")"
      ],
      "metadata": {
        "colab": {
          "base_uri": "https://localhost:8080/"
        },
        "id": "mpUwYNnfQZz3",
        "outputId": "f4727786-8fa9-4cf9-8672-b66a8bdfdd1f"
      },
      "execution_count": null,
      "outputs": [
        {
          "output_type": "stream",
          "name": "stdout",
          "text": [
            "hello world\n",
            "nama saya darren\n",
            "NIM saya 2022071011\n"
          ]
        }
      ]
    },
    {
      "cell_type": "code",
      "source": [
        "if 5>2 :\n",
        "  print(\"five is greater than two!!!\")"
      ],
      "metadata": {
        "colab": {
          "base_uri": "https://localhost:8080/"
        },
        "id": "yHQKA4y9Si6v",
        "outputId": "7b8a93df-1601-4869-e40d-337ae0a865ba"
      },
      "execution_count": null,
      "outputs": [
        {
          "output_type": "stream",
          "name": "stdout",
          "text": [
            "five is greater than two!!!\n"
          ]
        }
      ]
    },
    {
      "cell_type": "code",
      "source": [
        "x=5\n",
        "y=\"sally\"\n",
        "print(x)\n",
        "print(y)"
      ],
      "metadata": {
        "colab": {
          "base_uri": "https://localhost:8080/"
        },
        "id": "B-LQ-VXETEtR",
        "outputId": "78dad325-eb7f-4f3d-c4ae-d194fd6e3e28"
      },
      "execution_count": null,
      "outputs": [
        {
          "output_type": "stream",
          "name": "stdout",
          "text": [
            "5\n",
            "sally\n"
          ]
        }
      ]
    },
    {
      "cell_type": "code",
      "source": [
        "x=4\n",
        "x=\"sally\"\n",
        "print(x)"
      ],
      "metadata": {
        "colab": {
          "base_uri": "https://localhost:8080/"
        },
        "id": "eZoQb8iYTwf8",
        "outputId": "a65661eb-2145-4923-dfcd-db3fafa36ed2"
      },
      "execution_count": null,
      "outputs": [
        {
          "output_type": "stream",
          "name": "stdout",
          "text": [
            "sally\n"
          ]
        }
      ]
    },
    {
      "cell_type": "code",
      "source": [
        "def pertama(listku):\n",
        "  return listku[0]\n",
        "pertama([1,2,3])\n",
        "pertama([1,2,3,4,5,6,7,8,9])"
      ],
      "metadata": {
        "id": "FjQ_PxB1U5Hc",
        "colab": {
          "base_uri": "https://localhost:8080/"
        },
        "outputId": "6f9d025f-ba56-40a8-8332-cacb98b53c6c"
      },
      "execution_count": null,
      "outputs": [
        {
          "output_type": "execute_result",
          "data": {
            "text/plain": [
              "1"
            ]
          },
          "metadata": {},
          "execution_count": 20
        }
      ]
    },
    {
      "cell_type": "code",
      "source": [
        "def kedua(listku):\n",
        "    return listku[1]\n",
        "kedua([3,7,6,4,11])"
      ],
      "metadata": {
        "colab": {
          "base_uri": "https://localhost:8080/"
        },
        "id": "OQKwAy1XY9v2",
        "outputId": "3fc43e81-7b4e-446f-b4da-41005ba5ec6b"
      },
      "execution_count": null,
      "outputs": [
        {
          "output_type": "execute_result",
          "data": {
            "text/plain": [
              "7"
            ]
          },
          "metadata": {},
          "execution_count": 21
        }
      ]
    },
    {
      "cell_type": "code",
      "source": [
        "def terakhir(listku):\n",
        "  return listku[len(listku)-1]\n",
        "terakhir([3,4,7,9])"
      ],
      "metadata": {
        "colab": {
          "base_uri": "https://localhost:8080/"
        },
        "id": "VyCYLF12ZRcH",
        "outputId": "01dbd7c2-dd20-4c65-d555-876933ae34fa"
      },
      "execution_count": null,
      "outputs": [
        {
          "output_type": "execute_result",
          "data": {
            "text/plain": [
              "9"
            ]
          },
          "metadata": {},
          "execution_count": 24
        }
      ]
    },
    {
      "cell_type": "code",
      "source": [
        "def jumtol(listku):\n",
        "  sum=0\n",
        "  for item in listku:\n",
        "    sum = sum+item\n",
        "  return sum\n",
        "\n",
        "jumtol ([1,2,3,4])"
      ],
      "metadata": {
        "colab": {
          "base_uri": "https://localhost:8080/"
        },
        "id": "hvcnq9SrZUTZ",
        "outputId": "83ad36eb-0478-427d-91bc-60d1d7bfa580"
      },
      "execution_count": null,
      "outputs": [
        {
          "output_type": "execute_result",
          "data": {
            "text/plain": [
              "10"
            ]
          },
          "metadata": {},
          "execution_count": 25
        }
      ]
    },
    {
      "cell_type": "code",
      "source": [
        "def kaltol(listku):\n",
        "  sum=1\n",
        "  for item in listku:\n",
        "    sum = sum*item\n",
        "  return sum\n",
        "\n",
        "kaltol ([1,2,3,4])"
      ],
      "metadata": {
        "colab": {
          "base_uri": "https://localhost:8080/"
        },
        "id": "rqyx6Fu6cql-",
        "outputId": "b1af76b7-403e-4dc4-c851-b2879221a0fd"
      },
      "execution_count": 39,
      "outputs": [
        {
          "output_type": "execute_result",
          "data": {
            "text/plain": [
              "24"
            ]
          },
          "metadata": {},
          "execution_count": 39
        }
      ]
    },
    {
      "cell_type": "code",
      "source": [
        "def bagtol(listku):\n",
        "  sum=1\n",
        "  for item in listku:\n",
        "    sum = sum/item\n",
        "  return sum\n",
        "\n",
        "kaltol ([1,2,3,4])"
      ],
      "metadata": {
        "colab": {
          "base_uri": "https://localhost:8080/"
        },
        "id": "bqr6ANW_cxtd",
        "outputId": "0b498021-39d0-4464-d941-c7a9b6da2c95"
      },
      "execution_count": 40,
      "outputs": [
        {
          "output_type": "execute_result",
          "data": {
            "text/plain": [
              "24"
            ]
          },
          "metadata": {},
          "execution_count": 40
        }
      ]
    },
    {
      "cell_type": "code",
      "source": [
        "def jumtol(listku):\n",
        "  sum = 0\n",
        "  for row in listku:\n",
        "    for item in row:\n",
        "      sum += item\n",
        "  return sum\n",
        "jumtol([[1,2,5],[3,4,7]])"
      ],
      "metadata": {
        "colab": {
          "base_uri": "https://localhost:8080/"
        },
        "id": "bYPGgd4VdFjY",
        "outputId": "cc5dc109-4f25-44f0-a8c4-002003300ba2"
      },
      "execution_count": null,
      "outputs": [
        {
          "output_type": "execute_result",
          "data": {
            "text/plain": [
              "22"
            ]
          },
          "metadata": {},
          "execution_count": 31
        }
      ]
    },
    {
      "cell_type": "code",
      "source": [
        "def bagtol(listku):\n",
        "  sum = 1\n",
        "  for row in listku:\n",
        "    for item in row:\n",
        "      sum = sum/item\n",
        "  return sum\n",
        "bagtol([[1,2,5],[3,4,7]])"
      ],
      "metadata": {
        "colab": {
          "base_uri": "https://localhost:8080/"
        },
        "id": "BVPzJGYMdIxt",
        "outputId": "d2846df3-75a1-4e4e-c39c-7988271a4286"
      },
      "execution_count": null,
      "outputs": [
        {
          "output_type": "execute_result",
          "data": {
            "text/plain": [
              "0.0011904761904761904"
            ]
          },
          "metadata": {},
          "execution_count": 32
        }
      ]
    },
    {
      "cell_type": "code",
      "source": [
        "def kaltol(listku):\n",
        "  sum= 1\n",
        "  for row in listku:\n",
        "    for item in row:\n",
        "      sum= sum*item\n",
        "  return sum\n",
        "kaltol([[1,2,5],[3,4,7]])"
      ],
      "metadata": {
        "colab": {
          "base_uri": "https://localhost:8080/"
        },
        "id": "KqyDEUwodMxN",
        "outputId": "5e7a7d33-9a8e-4790-f505-aaccf27f1806"
      },
      "execution_count": null,
      "outputs": [
        {
          "output_type": "execute_result",
          "data": {
            "text/plain": [
              "840"
            ]
          },
          "metadata": {},
          "execution_count": 33
        }
      ]
    }
  ]
}